{
 "cells": [
  {
   "cell_type": "markdown",
   "metadata": {},
   "source": [
    "# Models and visualisations"
   ]
  },
  {
   "cell_type": "code",
   "execution_count": 319,
   "metadata": {},
   "outputs": [],
   "source": [
    "import numpy as np\n",
    "import cPickle as cp\n",
    "from sklearn.linear_model import LogisticRegression\n",
    "from sklearn.cross_validation import train_test_split\n",
    "from sklearn import svm\n",
    "from sklearn.svm import SVC\n",
    "from sklearn import linear_model\n",
    "from sklearn import tree\n",
    "from sklearn.neighbors import KNeighborsClassifier\n",
    "import matplotlib.pyplot as plt\n",
    "from sklearn.ensemble import RandomForestClassifier\n",
    "from sklearn.ensemble import AdaBoostClassifier\n",
    "from sklearn.ensemble import GradientBoostingClassifier\n",
    "from sklearn.ensemble import GradientBoostingRegressor\n",
    "import math\n",
    "import csv\n",
    "from sklearn.cross_validation import cross_val_score\n",
    "from sklearn.ensemble import VotingClassifier\n",
    "from sklearn.metrics import classification_report\n",
    "from sklearn.svm import LinearSVC\n",
    "import pandas as pd\n",
    "from xgboost import XGBClassifier\n",
    "from sklearn.metrics import accuracy_score\n",
    "from keras.models import Sequential\n",
    "from keras.layers import Dense,Dropout\n",
    "from keras.wrappers.scikit_learn import KerasClassifier\n",
    "from keras.utils import np_utils\n",
    "from sklearn.model_selection import cross_val_score\n",
    "from sklearn.model_selection import KFold\n",
    "from sklearn.preprocessing import LabelEncoder\n",
    "from sklearn.pipeline import Pipeline\n",
    "from sklearn.decomposition import PCA\n",
    "from sklearn import metrics\n",
    "import matplotlib.patches as mpatches"
   ]
  },
  {
   "cell_type": "markdown",
   "metadata": {},
   "source": [
    "**Loading the training data**"
   ]
  },
  {
   "cell_type": "code",
   "execution_count": 7,
   "metadata": {},
   "outputs": [],
   "source": [
    "with open('/home/nishant/Desktop/MLmania_pucho/train.p', 'rb') as f:\n",
    "    [xtrain,ytrain]=cp.load(f)"
   ]
  },
  {
   "cell_type": "code",
   "execution_count": 18,
   "metadata": {},
   "outputs": [
    {
     "name": "stdout",
     "output_type": "stream",
     "text": [
      "(55869, 17) (55869,)\n"
     ]
    }
   ],
   "source": [
    "xtrain=np.array(xtrain)\n",
    "print xtrain.shape,ytrain.shape"
   ]
  },
  {
   "cell_type": "markdown",
   "metadata": {},
   "source": [
    "**A look at the training data**"
   ]
  },
  {
   "cell_type": "code",
   "execution_count": 311,
   "metadata": {},
   "outputs": [
    {
     "data": {
      "text/html": [
       "<div>\n",
       "<style>\n",
       "    .dataframe thead tr:only-child th {\n",
       "        text-align: right;\n",
       "    }\n",
       "\n",
       "    .dataframe thead th {\n",
       "        text-align: left;\n",
       "    }\n",
       "\n",
       "    .dataframe tbody tr th {\n",
       "        vertical-align: top;\n",
       "    }\n",
       "</style>\n",
       "<table border=\"1\" class=\"dataframe\">\n",
       "  <thead>\n",
       "    <tr style=\"text-align: right;\">\n",
       "      <th></th>\n",
       "      <th>wins</th>\n",
       "      <th>seed</th>\n",
       "      <th>whr</th>\n",
       "      <th>wht</th>\n",
       "      <th>rec</th>\n",
       "      <th>trophies</th>\n",
       "      <th>app</th>\n",
       "      <th>fg</th>\n",
       "      <th>to</th>\n",
       "      <th>fg3</th>\n",
       "      <th>rb</th>\n",
       "      <th>stl</th>\n",
       "      <th>assist</th>\n",
       "      <th>tp</th>\n",
       "      <th>pc</th>\n",
       "      <th>sos</th>\n",
       "      <th>location</th>\n",
       "      <th>result</th>\n",
       "    </tr>\n",
       "  </thead>\n",
       "  <tbody>\n",
       "    <tr>\n",
       "      <th>0</th>\n",
       "      <td>-7.0</td>\n",
       "      <td>9.0</td>\n",
       "      <td>-34.0</td>\n",
       "      <td>-7.0</td>\n",
       "      <td>-0.25</td>\n",
       "      <td>0.0</td>\n",
       "      <td>-6.0</td>\n",
       "      <td>-1.23</td>\n",
       "      <td>1.49</td>\n",
       "      <td>-1.11</td>\n",
       "      <td>1.44</td>\n",
       "      <td>-0.32</td>\n",
       "      <td>-2.06</td>\n",
       "      <td>-1.88</td>\n",
       "      <td>4.83</td>\n",
       "      <td>-2.71</td>\n",
       "      <td>0.0</td>\n",
       "      <td>1.0</td>\n",
       "    </tr>\n",
       "    <tr>\n",
       "      <th>1</th>\n",
       "      <td>1.0</td>\n",
       "      <td>-4.0</td>\n",
       "      <td>60.0</td>\n",
       "      <td>16.0</td>\n",
       "      <td>0.09</td>\n",
       "      <td>1.0</td>\n",
       "      <td>7.0</td>\n",
       "      <td>2.96</td>\n",
       "      <td>-0.17</td>\n",
       "      <td>-1.76</td>\n",
       "      <td>0.24</td>\n",
       "      <td>0.93</td>\n",
       "      <td>-1.65</td>\n",
       "      <td>5.58</td>\n",
       "      <td>4.07</td>\n",
       "      <td>4.52</td>\n",
       "      <td>0.0</td>\n",
       "      <td>0.0</td>\n",
       "    </tr>\n",
       "    <tr>\n",
       "      <th>2</th>\n",
       "      <td>8.0</td>\n",
       "      <td>-22.0</td>\n",
       "      <td>-13.0</td>\n",
       "      <td>-10.0</td>\n",
       "      <td>0.00</td>\n",
       "      <td>-1.0</td>\n",
       "      <td>-3.0</td>\n",
       "      <td>2.38</td>\n",
       "      <td>-2.46</td>\n",
       "      <td>-0.88</td>\n",
       "      <td>-1.59</td>\n",
       "      <td>-1.50</td>\n",
       "      <td>3.25</td>\n",
       "      <td>6.19</td>\n",
       "      <td>-2.42</td>\n",
       "      <td>0.72</td>\n",
       "      <td>0.0</td>\n",
       "      <td>1.0</td>\n",
       "    </tr>\n",
       "    <tr>\n",
       "      <th>3</th>\n",
       "      <td>1.0</td>\n",
       "      <td>0.0</td>\n",
       "      <td>-45.0</td>\n",
       "      <td>0.0</td>\n",
       "      <td>0.33</td>\n",
       "      <td>0.0</td>\n",
       "      <td>7.0</td>\n",
       "      <td>-0.03</td>\n",
       "      <td>-2.36</td>\n",
       "      <td>0.78</td>\n",
       "      <td>-0.96</td>\n",
       "      <td>-0.00</td>\n",
       "      <td>-0.07</td>\n",
       "      <td>-0.18</td>\n",
       "      <td>-3.42</td>\n",
       "      <td>0.12</td>\n",
       "      <td>0.0</td>\n",
       "      <td>0.0</td>\n",
       "    </tr>\n",
       "    <tr>\n",
       "      <th>4</th>\n",
       "      <td>3.0</td>\n",
       "      <td>-24.0</td>\n",
       "      <td>37.0</td>\n",
       "      <td>9.0</td>\n",
       "      <td>0.08</td>\n",
       "      <td>0.0</td>\n",
       "      <td>12.0</td>\n",
       "      <td>-0.52</td>\n",
       "      <td>1.87</td>\n",
       "      <td>-0.84</td>\n",
       "      <td>3.37</td>\n",
       "      <td>-1.24</td>\n",
       "      <td>-3.43</td>\n",
       "      <td>-0.33</td>\n",
       "      <td>-4.51</td>\n",
       "      <td>0.23</td>\n",
       "      <td>0.0</td>\n",
       "      <td>1.0</td>\n",
       "    </tr>\n",
       "    <tr>\n",
       "      <th>5</th>\n",
       "      <td>-5.0</td>\n",
       "      <td>20.0</td>\n",
       "      <td>-108.0</td>\n",
       "      <td>-6.0</td>\n",
       "      <td>-0.34</td>\n",
       "      <td>0.0</td>\n",
       "      <td>-16.0</td>\n",
       "      <td>-1.13</td>\n",
       "      <td>6.51</td>\n",
       "      <td>-1.55</td>\n",
       "      <td>-0.93</td>\n",
       "      <td>0.72</td>\n",
       "      <td>1.48</td>\n",
       "      <td>-0.75</td>\n",
       "      <td>7.59</td>\n",
       "      <td>-14.90</td>\n",
       "      <td>1.0</td>\n",
       "      <td>0.0</td>\n",
       "    </tr>\n",
       "    <tr>\n",
       "      <th>6</th>\n",
       "      <td>8.0</td>\n",
       "      <td>-11.0</td>\n",
       "      <td>264.0</td>\n",
       "      <td>1.0</td>\n",
       "      <td>0.25</td>\n",
       "      <td>0.0</td>\n",
       "      <td>5.0</td>\n",
       "      <td>3.02</td>\n",
       "      <td>0.27</td>\n",
       "      <td>-2.66</td>\n",
       "      <td>1.63</td>\n",
       "      <td>-2.67</td>\n",
       "      <td>1.95</td>\n",
       "      <td>5.83</td>\n",
       "      <td>-3.67</td>\n",
       "      <td>12.08</td>\n",
       "      <td>1.0</td>\n",
       "      <td>1.0</td>\n",
       "    </tr>\n",
       "    <tr>\n",
       "      <th>7</th>\n",
       "      <td>1.0</td>\n",
       "      <td>0.0</td>\n",
       "      <td>8.0</td>\n",
       "      <td>0.0</td>\n",
       "      <td>0.17</td>\n",
       "      <td>0.0</td>\n",
       "      <td>8.0</td>\n",
       "      <td>0.42</td>\n",
       "      <td>-2.39</td>\n",
       "      <td>2.38</td>\n",
       "      <td>2.66</td>\n",
       "      <td>-0.08</td>\n",
       "      <td>-2.18</td>\n",
       "      <td>-0.54</td>\n",
       "      <td>0.11</td>\n",
       "      <td>2.48</td>\n",
       "      <td>0.0</td>\n",
       "      <td>0.0</td>\n",
       "    </tr>\n",
       "    <tr>\n",
       "      <th>8</th>\n",
       "      <td>-2.0</td>\n",
       "      <td>0.0</td>\n",
       "      <td>-196.0</td>\n",
       "      <td>-2.0</td>\n",
       "      <td>0.09</td>\n",
       "      <td>0.0</td>\n",
       "      <td>-1.0</td>\n",
       "      <td>2.25</td>\n",
       "      <td>-0.60</td>\n",
       "      <td>0.58</td>\n",
       "      <td>3.94</td>\n",
       "      <td>2.00</td>\n",
       "      <td>-1.31</td>\n",
       "      <td>3.44</td>\n",
       "      <td>4.24</td>\n",
       "      <td>-2.85</td>\n",
       "      <td>0.0</td>\n",
       "      <td>1.0</td>\n",
       "    </tr>\n",
       "    <tr>\n",
       "      <th>9</th>\n",
       "      <td>-5.0</td>\n",
       "      <td>20.0</td>\n",
       "      <td>-55.0</td>\n",
       "      <td>-6.0</td>\n",
       "      <td>-0.50</td>\n",
       "      <td>0.0</td>\n",
       "      <td>-15.0</td>\n",
       "      <td>-0.68</td>\n",
       "      <td>6.48</td>\n",
       "      <td>0.05</td>\n",
       "      <td>2.69</td>\n",
       "      <td>0.64</td>\n",
       "      <td>-0.63</td>\n",
       "      <td>-1.11</td>\n",
       "      <td>11.12</td>\n",
       "      <td>-12.54</td>\n",
       "      <td>1.0</td>\n",
       "      <td>0.0</td>\n",
       "    </tr>\n",
       "  </tbody>\n",
       "</table>\n",
       "</div>"
      ],
      "text/plain": [
       "   wins  seed    whr   wht   rec  trophies   app    fg    to   fg3    rb  \\\n",
       "0  -7.0   9.0  -34.0  -7.0 -0.25       0.0  -6.0 -1.23  1.49 -1.11  1.44   \n",
       "1   1.0  -4.0   60.0  16.0  0.09       1.0   7.0  2.96 -0.17 -1.76  0.24   \n",
       "2   8.0 -22.0  -13.0 -10.0  0.00      -1.0  -3.0  2.38 -2.46 -0.88 -1.59   \n",
       "3   1.0   0.0  -45.0   0.0  0.33       0.0   7.0 -0.03 -2.36  0.78 -0.96   \n",
       "4   3.0 -24.0   37.0   9.0  0.08       0.0  12.0 -0.52  1.87 -0.84  3.37   \n",
       "5  -5.0  20.0 -108.0  -6.0 -0.34       0.0 -16.0 -1.13  6.51 -1.55 -0.93   \n",
       "6   8.0 -11.0  264.0   1.0  0.25       0.0   5.0  3.02  0.27 -2.66  1.63   \n",
       "7   1.0   0.0    8.0   0.0  0.17       0.0   8.0  0.42 -2.39  2.38  2.66   \n",
       "8  -2.0   0.0 -196.0  -2.0  0.09       0.0  -1.0  2.25 -0.60  0.58  3.94   \n",
       "9  -5.0  20.0  -55.0  -6.0 -0.50       0.0 -15.0 -0.68  6.48  0.05  2.69   \n",
       "\n",
       "    stl  assist    tp     pc    sos  location  result  \n",
       "0 -0.32   -2.06 -1.88   4.83  -2.71       0.0     1.0  \n",
       "1  0.93   -1.65  5.58   4.07   4.52       0.0     0.0  \n",
       "2 -1.50    3.25  6.19  -2.42   0.72       0.0     1.0  \n",
       "3 -0.00   -0.07 -0.18  -3.42   0.12       0.0     0.0  \n",
       "4 -1.24   -3.43 -0.33  -4.51   0.23       0.0     1.0  \n",
       "5  0.72    1.48 -0.75   7.59 -14.90       1.0     0.0  \n",
       "6 -2.67    1.95  5.83  -3.67  12.08       1.0     1.0  \n",
       "7 -0.08   -2.18 -0.54   0.11   2.48       0.0     0.0  \n",
       "8  2.00   -1.31  3.44   4.24  -2.85       0.0     1.0  \n",
       "9  0.64   -0.63 -1.11  11.12 -12.54       1.0     0.0  "
      ]
     },
     "execution_count": 311,
     "metadata": {},
     "output_type": "execute_result"
    }
   ],
   "source": [
    "categories=['wins','seed','whr','wht','rec','trophies','app','fg','to','fg3','rb','stl','assist','tp','pc','sos','location']\n",
    "train=pd.DataFrame(xtrain,columns=categories)\n",
    "train['result']=ytrain\n",
    "train.head(10)"
   ]
  },
  {
   "cell_type": "markdown",
   "metadata": {},
   "source": [
    "**Train test split 1/3rd test set**"
   ]
  },
  {
   "cell_type": "code",
   "execution_count": 89,
   "metadata": {},
   "outputs": [],
   "source": [
    "x_train,x_test,y_train,y_test=train_test_split(xtrain,ytrain,test_size=0.33,random_state=7)"
   ]
  },
  {
   "cell_type": "code",
   "execution_count": 90,
   "metadata": {},
   "outputs": [
    {
     "name": "stdout",
     "output_type": "stream",
     "text": [
      "17\n"
     ]
    }
   ],
   "source": [
    "print len(x_train[1])"
   ]
  },
  {
   "cell_type": "markdown",
   "metadata": {},
   "source": [
    "**defining different models we'll try**"
   ]
  },
  {
   "cell_type": "code",
   "execution_count": 242,
   "metadata": {},
   "outputs": [],
   "source": [
    "model = GradientBoostingRegressor(learning_rate=0.06,n_estimators=200,max_features=8)\n",
    "model1=RandomForestClassifier(n_estimators=200)\n",
    "model2=LogisticRegression(n_jobs=8)\n",
    "model3 = KNeighborsClassifier(n_neighbors=101)\n",
    "model4 = AdaBoostClassifier(n_estimators=100)\n",
    "xgmodel=XGBClassifier()\n",
    "#ensemble=VotingClassifier(estimators=[('gbm',model),('rf',model1),\n",
    "                                     # ('lr',model2),('knn',model3),('ada',model4),('xgb',xgmodel)],voting='hard')"
   ]
  },
  {
   "cell_type": "markdown",
   "metadata": {},
   "source": [
    "**Accuracies of different models,we can see the gradient boosting outperformed every model with 75.65% accuracy**"
   ]
  },
  {
   "cell_type": "code",
   "execution_count": 243,
   "metadata": {},
   "outputs": [
    {
     "name": "stdout",
     "output_type": "stream",
     "text": [
      "gbm accuracy: 75.65%\n",
      "rf accuracy: 72.44%\n",
      "lr accuracy: 75.23%\n",
      "knn accuracy: 74.44%\n",
      "adaboost accuracy: 74.99%\n",
      "xgb accuracy: 75.45%\n",
      "The accuracy is: 75.37%\n"
     ]
    }
   ],
   "source": [
    "totals=[]\n",
    "accuracy=[]\n",
    "for i in range(1):\n",
    "    res = model.fit(x_train, y_train)\n",
    "    pred = model.predict(x_test)\n",
    "    pred=map(lambda x:0 if x<0.5 else 1,pred)\n",
    "    print 'gbm accuracy: %.2f%%'%(accuracy_score(pred,y_test)*100)\n",
    "    #print 'gbm accuracy: %0.2f%%',model.score(x_test,y_test)\n",
    "    res1 = model1.fit(x_train, y_train)\n",
    "    pred1 = model1.predict(x_test)\n",
    "    print 'rf accuracy: %.2f%%' %(model1.score(x_test,y_test)*100)\n",
    "    res2 = model2.fit(x_train, y_train)\n",
    "    pred2 = model2.predict(x_test)\n",
    "    print 'lr accuracy: %0.2f%%'%(model2.score(x_test,y_test)*100)\n",
    "    res3 = model3.fit(x_train, y_train)\n",
    "    pred3 = model3.predict(x_test)\n",
    "    print 'knn accuracy: %0.2f%%'%(model3.score(x_test,y_test)*100)\n",
    "    res4 = model4.fit(x_train, y_train)\n",
    "    pred4 = model4.predict(x_test)\n",
    "    print 'adaboost accuracy: %0.2f%%'%(model4.score(x_test,y_test)*100)\n",
    "    xgres = xgmodel.fit(x_train, y_train)\n",
    "    xgpred = xgmodel.predict(x_test)\n",
    "    print 'xgb accuracy: %0.2f%%'%(xgmodel.score(x_test,y_test)*100)\n",
    "    preds = (pred+pred1 + pred2 + pred3 + pred4 + xgpred)/6\n",
    "    totals.append(preds)\n",
    "    preds=map(lambda x:0 if x<0.5 else 1,preds)\n",
    "    accuracy.append(np.mean(preds == y_test))\n",
    "print \"The accuracy is: %.2f%%\" %(sum(accuracy)/len(accuracy)*100)"
   ]
  },
  {
   "cell_type": "code",
   "execution_count": 206,
   "metadata": {},
   "outputs": [
    {
     "name": "stdout",
     "output_type": "stream",
     "text": [
      "7\n"
     ]
    }
   ],
   "source": [
    "print model.max_features"
   ]
  },
  {
   "cell_type": "markdown",
   "metadata": {},
   "source": [
    "#### Visualising feature importances,naturally number of wins are most important followed by strength of schedule."
   ]
  },
  {
   "cell_type": "code",
   "execution_count": 315,
   "metadata": {},
   "outputs": [
    {
     "name": "stdout",
     "output_type": "stream",
     "text": [
      "['wins', 'sos', 'location', 'pc', 'tp', 'to', 'rb', 'whr', 'seed', 'app', 'stl', 'fg', 'fg3', 'wht', 'assist', 'rec', 'trophies']\n"
     ]
    },
    {
     "data": {
      "image/png": "[encoded data removed]",
      "text/plain": [
       "<matplotlib.figure.Figure at 0x7f8a67c94d90>"
      ]
     },
     "metadata": {},
     "output_type": "display_data"
    }
   ],
   "source": [
    "imp1=model.feature_importances_\n",
    "imp1=list(imp1/max(imp1))\n",
    "ind=[i[0] for i in sorted(enumerate(imp1), key=lambda x:x[1])]\n",
    "imp=(sorted(imp1))\n",
    "feat=[categories[x] for x in ind]\n",
    "print feat[::-1]\n",
    "fig, ax = plt.subplots(figsize=(20,10))\n",
    "l=range(0,17)\n",
    "ax.bar(l, imp[::-1], facecolor=(1, 0,1), alpha=0.6)\n",
    "plt.xticks(np.arange(0, 17, 1))\n",
    "ax.set_xticklabels(feat[::-1])\n",
    "ax.set_ylabel('feature importance')\n",
    "ax.set_xlabel('features')\n",
    "ax.set_title('Feature importances')\n",
    "plt.show(ax)\n"
   ]
  },
  {
   "cell_type": "markdown",
   "metadata": {},
   "source": [
    "**persisting the model for later use**"
   ]
  },
  {
   "cell_type": "code",
   "execution_count": 245,
   "metadata": {},
   "outputs": [],
   "source": [
    "cp.dump(model,open('/home/nishant/Desktop/model.pkl','wb'))"
   ]
  },
  {
   "cell_type": "code",
   "execution_count": null,
   "metadata": {},
   "outputs": [],
   "source": []
  },
  {
   "cell_type": "markdown",
   "metadata": {},
   "source": [
    "## Neural Network\n",
    "#### that's right,tried the neural network too using keras,built a simple 2 hidden layer MLP,accuracy obtained was less than GBM and took more time"
   ]
  },
  {
   "cell_type": "code",
   "execution_count": 91,
   "metadata": {},
   "outputs": [],
   "source": [
    "seed = 7\n",
    "np.random.seed(seed)"
   ]
  },
  {
   "cell_type": "code",
   "execution_count": 92,
   "metadata": {},
   "outputs": [],
   "source": [
    "number_of_class=2   #number of classes\n",
    "dim_h1=64            #num of neuron in hidden layer1\n",
    "dim_h2=16            #num of neuron in hidden layer2"
   ]
  },
  {
   "cell_type": "code",
   "execution_count": 111,
   "metadata": {},
   "outputs": [],
   "source": [
    "def baseline_model():\n",
    "   \n",
    "    model = Sequential()\n",
    "    model.add(Dense(dim_h1,activation='relu',kernel_initializer=\"normal\",input_dim=17))\n",
    "      #    model.add(Dropout(0.5))\n",
    "    model.add(Dense(dim_h2,kernel_initializer=\"normal\",activation='relu'))\n",
    "     #    model.add(Dropout(0.5))\n",
    "    model.add(Dense(number_of_class,kernel_initializer=\"normal\",activation='softmax'))\n",
    "    \n",
    "    model.compile(loss='categorical_crossentropy', optimizer='adam', metrics=['accuracy'])\n",
    "    return model"
   ]
  },
  {
   "cell_type": "code",
   "execution_count": 164,
   "metadata": {},
   "outputs": [],
   "source": [
    "estimator = KerasClassifier(build_fn=baseline_model, nb_epoch=100, batch_size=500, verbose=0)"
   ]
  },
  {
   "cell_type": "markdown",
   "metadata": {},
   "source": [
    "**cross-validation score**"
   ]
  },
  {
   "cell_type": "code",
   "execution_count": 114,
   "metadata": {},
   "outputs": [
    {
     "name": "stdout",
     "output_type": "stream",
     "text": [
      "Baseline: 75.22% (0.62%)\n"
     ]
    }
   ],
   "source": [
    "#Evaluate The Model with k-Fold Cross Validation\n",
    "kfold = KFold(n_splits=10, shuffle=True, random_state=seed)\n",
    "results = cross_val_score(estimator,x_train,y_train, cv=kfold)\n",
    "print(\"Baseline: %.2f%% (%.2f%%)\" % (results.mean()*100, results.std()*100))"
   ]
  },
  {
   "cell_type": "markdown",
   "metadata": {},
   "source": [
    "**Accuracy**"
   ]
  },
  {
   "cell_type": "code",
   "execution_count": 165,
   "metadata": {},
   "outputs": [
    {
     "name": "stdout",
     "output_type": "stream",
     "text": [
      "Accuracy: 75.3972998797%\n",
      "\n"
     ]
    }
   ],
   "source": [
    "estimator.fit(x_train, y_train)\n",
    "print \"Accuracy: {}%\\n\".format(estimator.score(x_test, y_test) *100)"
   ]
  },
  {
   "cell_type": "markdown",
   "metadata": {},
   "source": [
    "### Area under curve(auc)\n",
    "**And visualisation of predicted and actual win percentages**"
   ]
  },
  {
   "cell_type": "code",
   "execution_count": 336,
   "metadata": {},
   "outputs": [
    {
     "name": "stdout",
     "output_type": "stream",
     "text": [
      "('AUC:', 0.83850000000000002)\n"
     ]
    },
    {
     "data": {
      "image/png": "[encoded data removed]",
      "text/plain": [
       "<matplotlib.figure.Figure at 0x7f8a645d0150>"
      ]
     },
     "metadata": {},
     "output_type": "display_data"
    }
   ],
   "source": [
    "predTestComp = pd.DataFrame({'pred' : model.predict(x_test),\n",
    "                             'Win': y_test})\n",
    "predTestComp['predRound'] = np.round(predTestComp['pred'], decimals=2) \n",
    "#AUC\n",
    "    \n",
    "y = np.array(predTestComp['Win']+1)\n",
    "pred = np.array(predTestComp['pred'])\n",
    "fpr, tpr, thresholds = metrics.roc_curve(y, pred, pos_label=2)\n",
    "auc = np.round(metrics.auc(fpr, tpr),decimals=4)\n",
    "print('AUC:', auc)\n",
    "\n",
    "grouped = predTestComp.groupby(['predRound'])['Win'].agg(['count', 'mean']).reset_index()\n",
    "\n",
    "fig, ax1 = plt.subplots(figsize=(15,5))\n",
    "ax2 = ax1.twinx()\n",
    "ax2.bar(grouped.index, grouped['count'], facecolor=(0.5, 0.5, 0.5), alpha=0.3) \n",
    "ax1.plot(grouped.index, grouped['mean'], color = 'b')\n",
    "ax2.set_ylabel('Number of Games')\n",
    "#ax2.xaxis.tick_top()\n",
    "ax1.set_ylabel('Win %')\n",
    "ax1.set_xlabel('Predicted Win %')\n",
    "ax1.set_xlim([0, 101])\n",
    "ax1.set_ylim([0, 1])\n",
    "plt.xticks(np.arange(0, 101, 10))\n",
    "listx = ['0%', '10%', '20%', '30%', '40%', '50%', '60%', '70%', '80%', '90%', '100%']\n",
    "listy = ['0%', '20%', '40%', '60%', '80%', '100%']\n",
    "ax1.set_xticklabels(listx)\n",
    "line_patch = mpatches.Patch(color='blue', label='actual win percent')\n",
    "bar_patch = mpatches.Patch(color='gray', label='Number of Games won')\n",
    "plt.legend(handles=[line_patch, bar_patch], loc = 'upper left')\n",
    "plt.show(ax1)\n",
    "plt.show(ax2)"
   ]
  },
  {
   "cell_type": "markdown",
   "metadata": {},
   "source": [
    "## Never Mind this ,just some hyperparameter tuning for our final model,the gradient boosting regressor"
   ]
  },
  {
   "cell_type": "code",
   "execution_count": 239,
   "metadata": {},
   "outputs": [
    {
     "name": "stdout",
     "output_type": "stream",
     "text": [
      "gbm accuracy for lr 0.05 and ne 100: 75.50%\n",
      "gbm accuracy for lr 0.06 and ne 100: 75.67%\n",
      "gbm accuracy for lr 0.06 and ne 100: 75.54%\n",
      "gbm accuracy for lr 0.07 and ne 100: 75.39%\n",
      "gbm accuracy for lr 0.08 and ne 100: 75.52%\n",
      "gbm accuracy for lr 0.09 and ne 100: 75.73%\n",
      "gbm accuracy for lr 0.10 and ne 100: 75.41%\n",
      "gbm accuracy for lr 0.12 and ne 100: 75.52%\n",
      "gbm accuracy for lr 0.15 and ne 100: 75.56%\n",
      "gbm accuracy for lr 0.20 and ne 100: 75.54%\n",
      "gbm accuracy for lr 0.05 and ne 150: 75.62%\n",
      "gbm accuracy for lr 0.06 and ne 150: 75.49%\n",
      "gbm accuracy for lr 0.06 and ne 150: 75.47%\n",
      "gbm accuracy for lr 0.07 and ne 150: 75.53%\n",
      "gbm accuracy for lr 0.08 and ne 150: 75.55%\n",
      "gbm accuracy for lr 0.09 and ne 150: 75.54%\n",
      "gbm accuracy for lr 0.10 and ne 150: 75.57%\n",
      "gbm accuracy for lr 0.12 and ne 150: 75.43%\n",
      "gbm accuracy for lr 0.15 and ne 150: 75.54%\n",
      "gbm accuracy for lr 0.20 and ne 150: 75.50%\n",
      "gbm accuracy for lr 0.05 and ne 200: 75.53%\n",
      "gbm accuracy for lr 0.06 and ne 200: 75.71%\n",
      "gbm accuracy for lr 0.06 and ne 200: 75.57%\n",
      "gbm accuracy for lr 0.07 and ne 200: 75.50%\n",
      "gbm accuracy for lr 0.08 and ne 200: 75.49%\n",
      "gbm accuracy for lr 0.09 and ne 200: 75.49%\n",
      "gbm accuracy for lr 0.10 and ne 200: 75.59%\n",
      "gbm accuracy for lr 0.12 and ne 200: 75.54%\n",
      "gbm accuracy for lr 0.15 and ne 200: 75.54%\n",
      "gbm accuracy for lr 0.20 and ne 200: 75.23%\n",
      "gbm accuracy for lr 0.05 and ne 400: 75.58%\n",
      "gbm accuracy for lr 0.06 and ne 400: 75.42%\n",
      "gbm accuracy for lr 0.06 and ne 400: 75.49%\n",
      "gbm accuracy for lr 0.07 and ne 400: 75.49%\n",
      "gbm accuracy for lr 0.08 and ne 400: 75.68%\n",
      "gbm accuracy for lr 0.09 and ne 400: 75.41%\n",
      "gbm accuracy for lr 0.10 and ne 400: 75.43%\n",
      "gbm accuracy for lr 0.12 and ne 400: 75.35%\n",
      "gbm accuracy for lr 0.15 and ne 400: 75.39%\n",
      "gbm accuracy for lr 0.20 and ne 400: 75.20%\n",
      "gbm accuracy for lr 0.05 and ne 500: 75.52%\n",
      "gbm accuracy for lr 0.06 and ne 500: 75.59%\n",
      "gbm accuracy for lr 0.06 and ne 500: 75.50%\n",
      "gbm accuracy for lr 0.07 and ne 500: 75.40%\n",
      "gbm accuracy for lr 0.08 and ne 500: 75.46%\n",
      "gbm accuracy for lr 0.09 and ne 500: 75.42%\n",
      "gbm accuracy for lr 0.10 and ne 500: 75.25%\n",
      "gbm accuracy for lr 0.12 and ne 500: 75.35%\n",
      "gbm accuracy for lr 0.15 and ne 500: 75.29%\n",
      "gbm accuracy for lr 0.20 and ne 500: 75.08%\n",
      "gbm accuracy for lr 0.05 and ne 1000: 75.44%\n",
      "gbm accuracy for lr 0.06 and ne 1000: 75.40%\n",
      "gbm accuracy for lr 0.06 and ne 1000: 75.41%\n",
      "gbm accuracy for lr 0.07 and ne 1000: 75.29%\n",
      "gbm accuracy for lr 0.08 and ne 1000: 75.24%\n",
      "gbm accuracy for lr 0.09 and ne 1000: 75.25%\n",
      "gbm accuracy for lr 0.10 and ne 1000: 75.13%\n",
      "gbm accuracy for lr 0.12 and ne 1000: 75.25%\n",
      "gbm accuracy for lr 0.15 and ne 1000: 74.75%\n",
      "gbm accuracy for lr 0.20 and ne 1000: 74.61%\n"
     ]
    }
   ],
   "source": [
    "clf=GradientBoostingRegressor(n_estimators=200,max_features=8)\n",
    "lr=[0.05,0.055,0.06,0.075,0.08,0.09,0.1,0.125,0.15,0.2]\n",
    "ne=[100,150,200,400,500,1000]\n",
    "for n in ne:\n",
    "    for l in lr:\n",
    "        clf.learning_rate=l\n",
    "        clf.n_estimators=n\n",
    "        clf.fit(x_train,y_train)\n",
    "        pred = clf.predict(x_test)\n",
    "        pred=map(lambda x:0 if x<0.5 else 1,pred)\n",
    "        print 'gbm accuracy for lr %.2f and ne %d: %.2f%%'%(l,n,accuracy_score(pred,y_test)*100)"
   ]
  }
 ],
 "metadata": {
  "kernelspec": {
   "display_name": "Python 2",
   "language": "python",
   "name": "python2"
  },
  "language_info": {
   "codemirror_mode": {
    "name": "ipython",
    "version": 2
   },
   "file_extension": ".py",
   "mimetype": "text/x-python",
   "name": "python",
   "nbconvert_exporter": "python",
   "pygments_lexer": "ipython2",
   "version": "2.7.12"
  }
 },
 "nbformat": 4,
 "nbformat_minor": 2
}
